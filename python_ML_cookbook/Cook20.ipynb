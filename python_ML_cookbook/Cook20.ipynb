{
 "cells": [
  {
   "cell_type": "code",
   "execution_count": 1,
   "metadata": {},
   "outputs": [
    {
     "data": {
      "text/plain": [
       "array([[-0.81778677,  1.9517367 ],\n",
       "       [-0.84543822, -0.54716642],\n",
       "       [ 0.59119406, -0.2708212 ],\n",
       "       [-0.62422663, -0.2708212 ],\n",
       "       [ 1.69625756, -0.86292788]])"
      ]
     },
     "execution_count": 1,
     "metadata": {},
     "output_type": "execute_result"
    }
   ],
   "source": [
    "from sklearn import preprocessing\n",
    "import numpy as np\n",
    "\n",
    "features = np.array([[-100.1, 3240.1],[-200.2, -234.1],[5000.5, 150.1],[600.6,150.1],[9000.9, -673.1]])\n",
    "scaler = preprocessing.StandardScaler()\n",
    "\n",
    "features_standardized = scaler.fit_transform(features)\n",
    "\n",
    "features_standardized"
   ]
  },
  {
   "cell_type": "code",
   "execution_count": 3,
   "metadata": {},
   "outputs": [
    {
     "name": "stdout",
     "output_type": "stream",
     "text": [
      "WARNING:tensorflow:From C:\\Users\\fujii\\Anaconda3\\envs\\tensorflow\\lib\\site-packages\\tensorflow\\python\\framework\\op_def_library.py:263: colocate_with (from tensorflow.python.framework.ops) is deprecated and will be removed in a future version.\n",
      "Instructions for updating:\n",
      "Colocations handled automatically by placer.\n"
     ]
    }
   ],
   "source": [
    "from keras import models\n",
    "from keras import layers\n",
    "\n",
    "network = models.Sequential()\n",
    "\n",
    "network.add(layers.Dense(units=16, activation=\"relu\", input_shape=(10,)))\n",
    "\n",
    "network.add(layers.Dense(units=16, activation=\"relu\"))\n",
    "\n",
    "network.add(layers.Dense(units=1, activation=\"sigmoid\"))\n",
    "\n",
    "network.compile(loss=\"binary_crossentropy\",\n",
    "               optimizer=\"rmsprop\",\n",
    "               metrics=[\"accuracy\"])"
   ]
  },
  {
   "cell_type": "code",
   "execution_count": 9,
   "metadata": {},
   "outputs": [
    {
     "name": "stdout",
     "output_type": "stream",
     "text": [
      "WARNING:tensorflow:From C:\\Users\\fujii\\Anaconda3\\envs\\tensorflow\\lib\\site-packages\\tensorflow\\python\\ops\\math_ops.py:3066: to_int32 (from tensorflow.python.ops.math_ops) is deprecated and will be removed in a future version.\n",
      "Instructions for updating:\n",
      "Use tf.cast instead.\n",
      "Train on 25000 samples, validate on 25000 samples\n",
      "Epoch 1/3\n",
      "25000/25000 [==============================] - 1s 32us/step - loss: 0.4159 - acc: 0.8136 - val_loss: 0.3346 - val_acc: 0.8589\n",
      "Epoch 2/3\n",
      "25000/25000 [==============================] - 1s 22us/step - loss: 0.3246 - acc: 0.8641 - val_loss: 0.3288 - val_acc: 0.8604\n",
      "Epoch 3/3\n",
      "25000/25000 [==============================] - 1s 23us/step - loss: 0.3149 - acc: 0.8664 - val_loss: 0.3302 - val_acc: 0.8593\n"
     ]
    }
   ],
   "source": [
    "import numpy as np\n",
    "from keras.datasets import imdb\n",
    "from keras.preprocessing.text import Tokenizer\n",
    "from keras import models\n",
    "from keras import layers\n",
    "\n",
    "np.random.seed(0)\n",
    "\n",
    "number_of_features = 1000\n",
    "\n",
    "(data_train, target_train), (data_test, target_test) = imdb.load_data(num_words=number_of_features)\n",
    "\n",
    "tokenizer = Tokenizer(num_words=number_of_features)\n",
    "features_train = tokenizer.sequences_to_matrix(data_train, mode='binary')\n",
    "features_test = tokenizer.sequences_to_matrix(data_test, mode='binary')\n",
    "\n",
    "network = models.Sequential()\n",
    "\n",
    "network.add(layers.Dense(units=16, activation='relu', input_shape=(number_of_features,)))\n",
    "\n",
    "network.add(layers.Dense(units=16, activation=\"relu\"))\n",
    "\n",
    "network.add(layers.Dense(units=1, activation=\"sigmoid\"))\n",
    "\n",
    "network.compile(loss=\"binary_crossentropy\",\n",
    "               optimizer=\"rmsprop\",\n",
    "               metrics=[\"accuracy\"])\n",
    "\n",
    "history = network.fit(features_train,\n",
    "                     target_train,\n",
    "                     epochs = 3,\n",
    "                     verbose=1,\n",
    "                     batch_size=100,\n",
    "                     validation_data=(features_test, target_test))"
   ]
  },
  {
   "cell_type": "code",
   "execution_count": 11,
   "metadata": {},
   "outputs": [
    {
     "name": "stdout",
     "output_type": "stream",
     "text": [
      "Train on 8982 samples, validate on 2246 samples\n",
      "Epoch 1/3\n",
      "8982/8982 [==============================] - 2s 173us/step - loss: 1.5621 - acc: 0.6653 - val_loss: 1.1439 - val_acc: 0.7395\n",
      "Epoch 2/3\n",
      "8982/8982 [==============================] - 1s 150us/step - loss: 0.8139 - acc: 0.8177 - val_loss: 0.9451 - val_acc: 0.7854\n",
      "Epoch 3/3\n",
      "8982/8982 [==============================] - 1s 152us/step - loss: 0.5240 - acc: 0.8845 - val_loss: 0.8896 - val_acc: 0.7979\n"
     ]
    }
   ],
   "source": [
    "from keras.datasets import reuters\n",
    "from keras.utils.np_utils import to_categorical\n",
    "\n",
    "np.random.seed(0)\n",
    "\n",
    "number_of_features = 5000\n",
    "\n",
    "(data_train, target_vector_train), (data_test, target_vector_test) = reuters.load_data(num_words=number_of_features)\n",
    "\n",
    "tokenizer = Tokenizer(num_words=number_of_features)\n",
    "features_train = tokenizer.sequences_to_matrix(data_train, mode='binary')\n",
    "features_test = tokenizer.sequences_to_matrix(data_test, mode='binary')\n",
    "\n",
    "target_train = to_categorical(target_vector_train)\n",
    "target_test = to_categorical(target_vector_test)\n",
    "\n",
    "network = models.Sequential()\n",
    "\n",
    "network.add(layers.Dense(units=100, activation='relu', input_shape=(number_of_features,)))\n",
    "\n",
    "network.add(layers.Dense(units=100, activation=\"relu\"))\n",
    "\n",
    "network.add(layers.Dense(units=46, activation=\"softmax\"))\n",
    "\n",
    "network.compile(loss=\"categorical_crossentropy\",\n",
    "               optimizer=\"rmsprop\",\n",
    "               metrics=[\"accuracy\"])\n",
    "\n",
    "history = network.fit(features_train,\n",
    "                     target_train,\n",
    "                     epochs = 3,\n",
    "                     verbose=1,\n",
    "                     batch_size=100,\n",
    "                     validation_data=(features_test, target_test))"
   ]
  },
  {
   "cell_type": "code",
   "execution_count": 16,
   "metadata": {},
   "outputs": [
    {
     "name": "stdout",
     "output_type": "stream",
     "text": [
      "Train on 6700 samples, validate on 3300 samples\n",
      "Epoch 1/10\n",
      "6700/6700 [==============================] - 0s 44us/step - loss: 17306.1837 - mean_squared_error: 17306.1837 - val_loss: 17643.3894 - val_mean_squared_error: 17643.3894\n",
      "Epoch 2/10\n",
      "6700/6700 [==============================] - 0s 10us/step - loss: 16438.3378 - mean_squared_error: 16438.3378 - val_loss: 16405.3188 - val_mean_squared_error: 16405.3188\n",
      "Epoch 3/10\n",
      "6700/6700 [==============================] - 0s 11us/step - loss: 14833.4596 - mean_squared_error: 14833.4596 - val_loss: 14326.0805 - val_mean_squared_error: 14326.0805\n",
      "Epoch 4/10\n",
      "6700/6700 [==============================] - 0s 10us/step - loss: 12444.8769 - mean_squared_error: 12444.8769 - val_loss: 11422.5545 - val_mean_squared_error: 11422.5545\n",
      "Epoch 5/10\n",
      "6700/6700 [==============================] - 0s 11us/step - loss: 9276.6831 - mean_squared_error: 9276.6831 - val_loss: 7908.2119 - val_mean_squared_error: 7908.2119\n",
      "Epoch 6/10\n",
      "6700/6700 [==============================] - 0s 12us/step - loss: 5942.9902 - mean_squared_error: 5942.9902 - val_loss: 4529.5156 - val_mean_squared_error: 4529.5156\n",
      "Epoch 7/10\n",
      "6700/6700 [==============================] - 0s 11us/step - loss: 3004.6747 - mean_squared_error: 3004.6747 - val_loss: 1987.2245 - val_mean_squared_error: 1987.2245\n",
      "Epoch 8/10\n",
      "6700/6700 [==============================] - 0s 11us/step - loss: 1210.1354 - mean_squared_error: 1210.1354 - val_loss: 717.2923 - val_mean_squared_error: 717.2923\n",
      "Epoch 9/10\n",
      "6700/6700 [==============================] - 0s 11us/step - loss: 474.8057 - mean_squared_error: 474.8057 - val_loss: 326.1747 - val_mean_squared_error: 326.1747\n",
      "Epoch 10/10\n",
      "6700/6700 [==============================] - 0s 10us/step - loss: 257.2344 - mean_squared_error: 257.2344 - val_loss: 206.4477 - val_mean_squared_error: 206.4477\n"
     ]
    }
   ],
   "source": [
    "from sklearn.datasets import make_regression\n",
    "from sklearn.model_selection import train_test_split\n",
    "from sklearn import preprocessing\n",
    "\n",
    "np.random.seed(0)\n",
    "\n",
    "features, target = make_regression(n_samples=10000,\n",
    "                                  n_features=3,\n",
    "                                  n_informative=3,\n",
    "                                  n_targets=1,\n",
    "                                  noise = 0.0,\n",
    "                                  random_state= 0)\n",
    "\n",
    "features_train,features_test,target_train,target_test = train_test_split(features, target, test_size=0.33, random_state=0)\n",
    "\n",
    "network = models.Sequential()\n",
    "\n",
    "network.add(layers.Dense(units=32,\n",
    "                        activation=\"relu\",\n",
    "                        input_shape=(features_train.shape[1],)))\n",
    "\n",
    "network.add(layers.Dense(units=32, activation=\"relu\"))\n",
    "\n",
    "network.add(layers.Dense(units=1))\n",
    "\n",
    "network.compile(loss=\"mse\",\n",
    "               optimizer=\"RMSprop\",\n",
    "               metrics=[\"mse\"])\n",
    "\n",
    "history = network.fit(features_train,\n",
    "                     target_train,\n",
    "                     epochs = 10,\n",
    "                     verbose=1,\n",
    "                     batch_size=100,\n",
    "                     validation_data=(features_test, target_test))"
   ]
  },
  {
   "cell_type": "code",
   "execution_count": 25,
   "metadata": {},
   "outputs": [
    {
     "name": "stdout",
     "output_type": "stream",
     "text": [
      "Train on 25000 samples, validate on 25000 samples\n",
      "Epoch 1/15\n",
      "25000/25000 [==============================] - 4s 179us/step - loss: 0.7886 - acc: 0.7727 - val_loss: 0.6496 - val_acc: 0.8436\n",
      "Epoch 2/15\n",
      "25000/25000 [==============================] - 4s 153us/step - loss: 0.5867 - acc: 0.8716 - val_loss: 0.5882 - val_acc: 0.8509\n",
      "Epoch 3/15\n",
      "25000/25000 [==============================] - 4s 151us/step - loss: 0.5376 - acc: 0.8820 - val_loss: 0.5414 - val_acc: 0.8735\n",
      "Epoch 4/15\n",
      "25000/25000 [==============================] - 4s 152us/step - loss: 0.5091 - acc: 0.8855 - val_loss: 0.5122 - val_acc: 0.8815\n",
      "Epoch 5/15\n",
      "25000/25000 [==============================] - 4s 157us/step - loss: 0.4869 - acc: 0.8917 - val_loss: 0.5018 - val_acc: 0.8794\n",
      "Epoch 6/15\n",
      "25000/25000 [==============================] - 4s 158us/step - loss: 0.4733 - acc: 0.8911 - val_loss: 0.5199 - val_acc: 0.8585\n",
      "Epoch 7/15\n",
      "25000/25000 [==============================] - 4s 156us/step - loss: 0.4591 - acc: 0.8952 - val_loss: 0.5188 - val_acc: 0.8535\n",
      "Epoch 8/15\n",
      "25000/25000 [==============================] - 4s 155us/step - loss: 0.4527 - acc: 0.8926 - val_loss: 0.4927 - val_acc: 0.8660\n",
      "Epoch 9/15\n",
      "25000/25000 [==============================] - 4s 158us/step - loss: 0.4400 - acc: 0.8956 - val_loss: 0.4649 - val_acc: 0.8803\n",
      "Epoch 10/15\n",
      "25000/25000 [==============================] - 4s 154us/step - loss: 0.4313 - acc: 0.8969 - val_loss: 0.4540 - val_acc: 0.8835\n",
      "Epoch 11/15\n",
      "25000/25000 [==============================] - 4s 156us/step - loss: 0.4262 - acc: 0.8962 - val_loss: 0.4898 - val_acc: 0.8577\n",
      "Epoch 12/15\n",
      "25000/25000 [==============================] - 4s 153us/step - loss: 0.4168 - acc: 0.8986 - val_loss: 0.4481 - val_acc: 0.8811\n",
      "Epoch 13/15\n",
      "25000/25000 [==============================] - 4s 153us/step - loss: 0.4191 - acc: 0.8946 - val_loss: 0.4686 - val_acc: 0.8653\n",
      "Epoch 14/15\n",
      "25000/25000 [==============================] - 4s 157us/step - loss: 0.4057 - acc: 0.9025 - val_loss: 0.4577 - val_acc: 0.8704\n",
      "Epoch 15/15\n",
      "25000/25000 [==============================] - 4s 153us/step - loss: 0.4110 - acc: 0.8956 - val_loss: 0.4424 - val_acc: 0.8768\n"
     ]
    }
   ],
   "source": [
    "from keras import regularizers\n",
    "\n",
    "np.random.seed(0)\n",
    "number_of_features = 10000\n",
    "(data_train, target_train),(data_test, target_test) = imdb.load_data(num_words=number_of_features)\n",
    "\n",
    "tokenizer = Tokenizer(num_words=number_of_features)\n",
    "features_train = tokenizer.sequences_to_matrix(data_train, mode='binary')\n",
    "features_test = tokenizer.sequences_to_matrix(data_test, mode='binary')\n",
    "\n",
    "network = models.Sequential()\n",
    "\n",
    "network.add(layers.Dense(units=16,\n",
    "                         activation='relu',\n",
    "                         kernel_regularizer=regularizers.l2(0.01),\n",
    "                         input_shape=(number_of_features,)))\n",
    "\n",
    "network.add(layers.Dense(units=16, \n",
    "                         kernel_regularizer=regularizers.l2(0.01),\n",
    "                         activation=\"relu\"))\n",
    "\n",
    "network.add(layers.Dense(units=1, activation=\"sigmoid\"))\n",
    "\n",
    "network.compile(loss=\"binary_crossentropy\",\n",
    "               optimizer=\"rmsprop\",\n",
    "               metrics=[\"accuracy\"])\n",
    "\n",
    "history = network.fit(features_train,\n",
    "                     target_train,\n",
    "                     epochs = 15,\n",
    "                     verbose=1,\n",
    "                     batch_size=1000,\n",
    "                     validation_data=(features_test, target_test))\n",
    "\n",
    "#predicted_target = network.predict(features_test)\n",
    "#predicted_target\n"
   ]
  },
  {
   "cell_type": "code",
   "execution_count": 26,
   "metadata": {},
   "outputs": [
    {
     "data": {
      "text/plain": [
       "Text(0, 0.5, 'Loss')"
      ]
     },
     "execution_count": 26,
     "metadata": {},
     "output_type": "execute_result"
    },
    {
     "data": {
      "image/png": "[encoded data removed]",
      "text/plain": [
       "<Figure size 432x288 with 1 Axes>"
      ]
     },
     "metadata": {
      "needs_background": "light"
     },
     "output_type": "display_data"
    }
   ],
   "source": [
    "import matplotlib.pyplot as plt\n",
    "training_loss = history.history[\"loss\"]\n",
    "test_loss = history.history[\"val_loss\"]\n",
    "\n",
    "epoch_count = range(1, len(training_loss) + 1)\n",
    "\n",
    "plt.plot(epoch_count, training_loss, \"r--\")\n",
    "plt.plot(epoch_count, test_loss, \"b-\")\n",
    "plt.legend([\"Training Loss\", \" Test Loss\"])\n",
    "plt.xlabel(\"Epoch\")\n",
    "plt.ylabel(\"Loss\")\n"
   ]
  },
  {
   "cell_type": "code",
   "execution_count": 3,
   "metadata": {},
   "outputs": [
    {
     "name": "stdout",
     "output_type": "stream",
     "text": [
      "WARNING:tensorflow:From C:\\Users\\fujii\\Anaconda3\\envs\\tensorflow\\lib\\site-packages\\tensorflow\\python\\ops\\math_ops.py:3066: to_int32 (from tensorflow.python.ops.math_ops) is deprecated and will be removed in a future version.\n",
      "Instructions for updating:\n",
      "Use tf.cast instead.\n"
     ]
    }
   ],
   "source": [
    "import numpy as np\n",
    "from keras.datasets import imdb\n",
    "from keras.preprocessing.text import Tokenizer\n",
    "from keras import models\n",
    "from keras import layers\n",
    "from keras.callbacks import EarlyStopping, ModelCheckpoint\n",
    "\n",
    "np.random.seed(0)\n",
    "number_of_features = 1000\n",
    "(data_train, target_train),(data_test, target_test) = imdb.load_data(num_words=number_of_features)\n",
    "\n",
    "tokenizer = Tokenizer(num_words=number_of_features)\n",
    "features_train = tokenizer.sequences_to_matrix(data_train, mode='binary')\n",
    "features_test = tokenizer.sequences_to_matrix(data_test, mode='binary')\n",
    "\n",
    "network = models.Sequential()\n",
    "\n",
    "network.add(layers.Dense(units=16,\n",
    "                         activation='relu',\n",
    "                         input_shape=(number_of_features,)))\n",
    "\n",
    "network.add(layers.Dense(units=16, \n",
    "                         activation=\"relu\"))\n",
    "\n",
    "network.add(layers.Dense(units=1, activation=\"sigmoid\"))\n",
    "\n",
    "network.compile(loss=\"binary_crossentropy\",\n",
    "               optimizer=\"rmsprop\",\n",
    "               metrics=[\"accuracy\"])\n",
    "\n",
    "callbacks = [EarlyStopping(monitor =\"val_loss\",patience=2),\n",
    "            ModelCheckpoint(filepath=\"best_model.h5\",\n",
    "                           monitor=\"val_loss\",\n",
    "                           save_best_only=True)]\n",
    "\n",
    "history = network.fit(features_train,\n",
    "                     target_train,\n",
    "                     epochs = 20,\n",
    "                     verbose= 0,\n",
    "                     callbacks=callbacks,\n",
    "                     batch_size=100,\n",
    "                     validation_data=(features_test, target_test))\n"
   ]
  },
  {
   "cell_type": "code",
   "execution_count": 6,
   "metadata": {},
   "outputs": [
    {
     "data": {
      "text/plain": [
       "<module 'matplotlib.pyplot' from 'C:\\\\Users\\\\fujii\\\\Anaconda3\\\\envs\\\\tensorflow\\\\lib\\\\site-packages\\\\matplotlib\\\\pyplot.py'>"
      ]
     },
     "execution_count": 6,
     "metadata": {},
     "output_type": "execute_result"
    },
    {
     "data": {
      "image/png": "[encoded data removed]",
      "text/plain": [
       "<Figure size 432x288 with 1 Axes>"
      ]
     },
     "metadata": {
      "needs_background": "light"
     },
     "output_type": "display_data"
    }
   ],
   "source": [
    "import matplotlib.pyplot as plt\n",
    "training_loss = history.history[\"loss\"]\n",
    "test_loss = history.history[\"val_loss\"]\n",
    "\n",
    "epoch_count = range(1, len(training_loss) + 1)\n",
    "\n",
    "plt.plot(epoch_count, training_loss, \"r--\")\n",
    "plt.plot(epoch_count, test_loss, \"b-\")\n",
    "plt.legend([\"Training Loss\", \" Test Loss\"])\n",
    "plt.xlabel(\"Epoch\")\n",
    "plt.ylabel(\"Loss\")\n",
    "plt"
   ]
  },
  {
   "cell_type": "code",
   "execution_count": 10,
   "metadata": {},
   "outputs": [],
   "source": [
    "import numpy as np\n",
    "from keras.datasets import imdb\n",
    "from keras.preprocessing.text import Tokenizer\n",
    "from keras import models\n",
    "from keras import layers\n",
    "from keras.callbacks import ModelCheckpoint\n",
    "\n",
    "np.random.seed(0)\n",
    "number_of_features = 1000\n",
    "(data_train, target_train),(data_test, target_test) = imdb.load_data(num_words=number_of_features)\n",
    "\n",
    "tokenizer = Tokenizer(num_words=number_of_features)\n",
    "features_train = tokenizer.sequences_to_matrix(data_train, mode='binary')\n",
    "features_test = tokenizer.sequences_to_matrix(data_test, mode='binary')\n",
    "\n",
    "network = models.Sequential()\n",
    "network.add(layers.Dropout(0.2, input_shape=(number_of_features,)))\n",
    "network.add(layers.Dense(units=16,\n",
    "                         activation='relu'))\n",
    "network.add(layers.Dropout(0.5))\n",
    "network.add(layers.Dense(units=16, \n",
    "                         activation=\"relu\"))\n",
    "network.add(layers.Dropout(0.5))\n",
    "network.add(layers.Dense(units=1, activation=\"sigmoid\"))\n",
    "\n",
    "network.compile(loss=\"binary_crossentropy\",\n",
    "               optimizer=\"rmsprop\",\n",
    "               metrics=[\"accuracy\"])\n",
    "\n",
    "checkpoint = [ModelCheckpoint(filepath=\"models.hdf5\")]\n",
    "\n",
    "history = network.fit(features_train,\n",
    "                     target_train,\n",
    "                     epochs = 3,\n",
    "                      callbacks=checkpoint,\n",
    "                     verbose= 0,\n",
    "                     batch_size=100,\n",
    "                     validation_data=(features_test, target_test))\n"
   ]
  },
  {
   "cell_type": "code",
   "execution_count": 13,
   "metadata": {},
   "outputs": [],
   "source": [
    "import numpy as np\n",
    "from keras import models\n",
    "from keras import layers\n",
    "from keras.wrappers.scikit_learn import KerasClassifier\n",
    "from sklearn.model_selection import GridSearchCV\n",
    "from sklearn.datasets import make_classification\n",
    "\n",
    "np.random.seed(0)\n",
    "number_of_features = 1000\n",
    "features, target = make_classification(n_samples=10000,\n",
    "                                      n_features= number_of_features,\n",
    "                                      n_informative=3,\n",
    "                                      n_redundant=0,\n",
    "                                      n_classes=2,\n",
    "                                      weights=[.5,.5],\n",
    "                                      random_state=0)\n",
    "\n",
    "def create_network(optimizer=\"rmsprop\"):\n",
    "    network = models.Sequential()\n",
    "    network.add(layers.Dense(units=16,activation='relu',input_shape = (number_of_features,)))\n",
    "    network.add(layers.Dense(units=16,activation=\"relu\"))\n",
    "    network.add(layers.Dense(units=1, activation=\"sigmoid\"))\n",
    "    network.compile(loss=\"binary_crossentropy\",\n",
    "                   optimizer=\"rmsprop\",\n",
    "                   metrics=[\"accuracy\"])\n",
    "    return network\n",
    "\n",
    "neural_network = KerasClassifier(build_fn=create_network,verbose=0)\n",
    "\n",
    "epochs = [5,10]\n",
    "batches=[5,10,100]\n",
    "optimizers = [\"rmsprop\", \"adam\"]\n",
    "\n",
    "hyperparameters = dict(optimizer = optimizers, epochs = epochs, batch_size = batches)\n",
    "\n",
    "grid = GridSearchCV(estimator=neural_network, param_grid=hyperparameters)\n",
    "\n",
    "grid_result = grid.fit(features, target)"
   ]
  },
  {
   "cell_type": "code",
   "execution_count": 14,
   "metadata": {},
   "outputs": [
    {
     "data": {
      "text/plain": [
       "{'batch_size': 5, 'epochs': 10, 'optimizer': 'adam'}"
      ]
     },
     "execution_count": 14,
     "metadata": {},
     "output_type": "execute_result"
    }
   ],
   "source": [
    "grid_result.best_params_"
   ]
  },
  {
   "cell_type": "code",
   "execution_count": 27,
   "metadata": {},
   "outputs": [
    {
     "data": {
      "text/plain": [
       "<keras.callbacks.History at 0x24fb2c88d68>"
      ]
     },
     "execution_count": 27,
     "metadata": {},
     "output_type": "execute_result"
    }
   ],
   "source": [
    "import numpy as np\n",
    "from keras.datasets import mnist\n",
    "from keras.models import Sequential\n",
    "from keras.layers import Dense, Dropout, Flatten\n",
    "from keras.layers.convolutional import Conv2D, MaxPooling2D\n",
    "from keras.utils import np_utils\n",
    "from keras import backend as K\n",
    "\n",
    "K.set_image_data_format(\"channels_first\")\n",
    "\n",
    "np.random.seed(0)\n",
    "\n",
    "channels= 1\n",
    "height = 28\n",
    "width = 28\n",
    "\n",
    "(data_train, target_train),(data_test, target_test) = mnist.load_data()\n",
    "\n",
    "data_train = data_train.reshape(data_train.shape[0], channels, height,width)\n",
    "data_test = data_test.reshape(data_test.shape[0], channels, height,width)\n",
    "\n",
    "features_train = data_train / 255\n",
    "features_test = data_test / 255\n",
    "\n",
    "target_train = np_utils.to_categorical(target_train)\n",
    "target_test = np_utils.to_categorical(target_test)\n",
    "number_of_classes = target_test.shape[1]\n",
    "\n",
    "network = Sequential()\n",
    "\n",
    "network.add(Conv2D(filters=64,\n",
    "                  kernel_size=(5,5),\n",
    "                  input_shape=(channels,width,height),\n",
    "                  activation='relu'))\n",
    "\n",
    "network.add(MaxPooling2D(pool_size=(2,2)))\n",
    "network.add(Dropout(0.5))\n",
    "network.add(Flatten())\n",
    "network.add(Dense(128,activation=\"relu\"))\n",
    "network.add(Dropout(0.5))\n",
    "network.add(Dense(number_of_classes, activation=\"softmax\"))\n",
    "\n",
    "network.compile(loss=\"categorical_crossentropy\",\n",
    "                   optimizer=\"rmsprop\",\n",
    "                   metrics=[\"accuracy\"])\n",
    "network.fit(features_train,\n",
    "            target_train,\n",
    "            epochs = 2,\n",
    "            verbose = 0, \n",
    "            batch_size=1000,\n",
    "            validation_data=(features_test, target_test))"
   ]
  },
  {
   "cell_type": "code",
   "execution_count": null,
   "metadata": {},
   "outputs": [],
   "source": [
    "from keras.preprocessing.image import ImageDataGenerator\n",
    "\n",
    "augmentation = ImageDataGenerator(featurewise_center = True,\n",
    "                                 zoom_range = 0.3,\n",
    "                                 width_shift_range = 0.2,\n",
    "                                 horizontal_flip=True,\n",
    "                                 rotation_range=90)\n",
    "\n",
    "augment_images = augmentation.flow_from_directory(\"raw/images\",\n",
    "                                                 batch_size=32,\n",
    "                                                 class_mode=\"binary\",\n",
    "                                                 save_to_dir=\"processed/image\")"
   ]
  },
  {
   "cell_type": "code",
   "execution_count": 30,
   "metadata": {},
   "outputs": [
    {
     "data": {
      "text/plain": [
       "<keras.callbacks.History at 0x250275b7668>"
      ]
     },
     "execution_count": 30,
     "metadata": {},
     "output_type": "execute_result"
    }
   ],
   "source": [
    "from keras.preprocessing import sequence\n",
    "\n",
    "np.random.seed(0)\n",
    "\n",
    "number_of_features = 1000\n",
    "(data_train, target_train),(data_test, target_test) = imdb.load_data(num_words=number_of_features)\n",
    "\n",
    "features_train = sequence.pad_sequences(data_train, maxlen=400)\n",
    "features_test = sequence.pad_sequences(data_test, maxlen=400)\n",
    "\n",
    "network = models.Sequential()\n",
    "\n",
    "network.add(layers.Embedding(input_dim=number_of_features,output_dim=128))\n",
    "\n",
    "network.add(layers.LSTM(units=128))\n",
    "\n",
    "network.add(layers.Dense(units=1,activation=\"sigmoid\"))\n",
    "\n",
    "network.compile(loss=\"binary_crossentropy\",\n",
    "                   optimizer=\"Adam\",\n",
    "                   metrics=[\"accuracy\"])\n",
    "network.fit(features_train,\n",
    "            target_train,\n",
    "            epochs = 3,\n",
    "            verbose = 0, \n",
    "            batch_size=1000,\n",
    "            validation_data=(features_test, target_test))"
   ]
  },
  {
   "cell_type": "code",
   "execution_count": null,
   "metadata": {},
   "outputs": [],
   "source": []
  }
 ],
 "metadata": {
  "kernelspec": {
   "display_name": "Python 3",
   "language": "python",
   "name": "python3"
  },
  "language_info": {
   "codemirror_mode": {
    "name": "ipython",
    "version": 3
   },
   "file_extension": ".py",
   "mimetype": "text/x-python",
   "name": "python",
   "nbconvert_exporter": "python",
   "pygments_lexer": "ipython3",
   "version": "3.6.8"
  }
 },
 "nbformat": 4,
 "nbformat_minor": 2
}
