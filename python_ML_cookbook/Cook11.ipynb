{
 "cells": [
  {
   "cell_type": "code",
   "execution_count": 1,
   "metadata": {},
   "outputs": [
    {
     "data": {
      "text/plain": [
       "0.964931719428926"
      ]
     },
     "execution_count": 1,
     "metadata": {},
     "output_type": "execute_result"
    }
   ],
   "source": [
    "from sklearn import datasets\n",
    "from sklearn import metrics\n",
    "from sklearn.model_selection import KFold,cross_val_score\n",
    "from sklearn.pipeline import make_pipeline\n",
    "from sklearn.linear_model import LogisticRegression\n",
    "from sklearn.preprocessing import StandardScaler\n",
    "\n",
    "digits = datasets.load_digits()\n",
    "features = digits.data\n",
    "target = digits.target\n",
    "\n",
    "standardizer = StandardScaler()\n",
    "\n",
    "logit = LogisticRegression()\n",
    "\n",
    "pipeline = make_pipeline(standardizer, logit)\n",
    "\n",
    "kf = KFold(n_splits = 10, shuffle=True, random_state=1)\n",
    "\n",
    "cv_results = cross_val_score(pipeline,\n",
    "                            features,\n",
    "                            target,\n",
    "                            cv=kf,\n",
    "                            scoring=\"accuracy\",\n",
    "                            n_jobs=-1)\n",
    "\n",
    "cv_results.mean()"
   ]
  },
  {
   "cell_type": "code",
   "execution_count": 2,
   "metadata": {},
   "outputs": [],
   "source": [
    "from sklearn.model_selection import train_test_split\n",
    "\n",
    "features_train,features_test,target_train,target_test = train_test_split(features,target,test_size=0.1,random_state=1)\n",
    "\n",
    "standardizer.fit(features_train)\n",
    "\n",
    "features_train_std = standardizer.transform(features_train)\n",
    "features_test_std = standardizer.transform(features_test)\n",
    "\n",
    "pipeline = make_pipeline(standardizer, logit)\n",
    "\n",
    "cv_results = cross_val_score(pipeline,\n",
    "                            features,\n",
    "                            target,\n",
    "                            cv=kf,\n",
    "                            scoring=\"accuracy\",\n",
    "                            n_jobs=-1)"
   ]
  },
  {
   "cell_type": "code",
   "execution_count": 3,
   "metadata": {},
   "outputs": [
    {
     "data": {
      "text/plain": [
       "-0.001119359203955339"
      ]
     },
     "execution_count": 3,
     "metadata": {},
     "output_type": "execute_result"
    }
   ],
   "source": [
    "from sklearn.datasets import load_boston\n",
    "from sklearn.dummy import DummyRegressor\n",
    "from sklearn.model_selection import train_test_split\n",
    "\n",
    "boston = load_boston()\n",
    "\n",
    "features, target = boston.data, boston.target\n",
    "\n",
    "features_train,features_test,target_train,target_test = train_test_split(features,target,random_state=0)\n",
    "\n",
    "dummy = DummyRegressor(strategy='mean')\n",
    "\n",
    "dummy.fit(features_train, target_train)\n",
    "\n",
    "dummy.score(features_test, target_test)"
   ]
  },
  {
   "cell_type": "code",
   "execution_count": 4,
   "metadata": {},
   "outputs": [
    {
     "data": {
      "text/plain": [
       "0.6354638433202129"
      ]
     },
     "execution_count": 4,
     "metadata": {},
     "output_type": "execute_result"
    }
   ],
   "source": [
    "from sklearn.linear_model import LinearRegression\n",
    "\n",
    "ols = LinearRegression()\n",
    "ols.fit(features_train, target_train)\n",
    "\n",
    "ols.score(features_test, target_test)"
   ]
  },
  {
   "cell_type": "code",
   "execution_count": 5,
   "metadata": {},
   "outputs": [
    {
     "data": {
      "text/plain": [
       "0.42105263157894735"
      ]
     },
     "execution_count": 5,
     "metadata": {},
     "output_type": "execute_result"
    }
   ],
   "source": [
    "from sklearn.datasets import load_iris\n",
    "from sklearn.dummy import DummyClassifier\n",
    "from sklearn.model_selection import train_test_split\n",
    "\n",
    "iris = load_iris()\n",
    "\n",
    "features,target = iris.data,iris.target\n",
    "features_train,features_test,target_train,target_test = train_test_split(features,target,random_state=0)\n",
    "\n",
    "dummy = DummyClassifier(strategy='uniform',random_state=1)\n",
    "\n",
    "dummy.fit(features_train, target_train)\n",
    "\n",
    "dummy.score(features_test,target_test)"
   ]
  },
  {
   "cell_type": "code",
   "execution_count": 6,
   "metadata": {},
   "outputs": [
    {
     "name": "stderr",
     "output_type": "stream",
     "text": [
      "C:\\Users\\fujii\\Anaconda3\\envs\\tesorflow-gpu\\lib\\site-packages\\sklearn\\ensemble\\forest.py:246: FutureWarning: The default value of n_estimators will change from 10 in version 0.20 to 100 in 0.22.\n",
      "  \"10 in version 0.20 to 100 in 0.22.\", FutureWarning)\n"
     ]
    },
    {
     "data": {
      "text/plain": [
       "0.9736842105263158"
      ]
     },
     "execution_count": 6,
     "metadata": {},
     "output_type": "execute_result"
    }
   ],
   "source": [
    "from sklearn.ensemble import RandomForestClassifier\n",
    "\n",
    "classifier = RandomForestClassifier()\n",
    "\n",
    "classifier.fit(features_train,target_train)\n",
    "\n",
    "classifier.score(features_test,target_test)"
   ]
  },
  {
   "cell_type": "code",
   "execution_count": 7,
   "metadata": {},
   "outputs": [
    {
     "name": "stderr",
     "output_type": "stream",
     "text": [
      "C:\\Users\\fujii\\Anaconda3\\envs\\tesorflow-gpu\\lib\\site-packages\\sklearn\\model_selection\\_split.py:2053: FutureWarning: You should specify a value for 'cv' instead of relying on the default value. The default value will change from 3 to 5 in version 0.22.\n",
      "  warnings.warn(CV_WARNING, FutureWarning)\n",
      "C:\\Users\\fujii\\Anaconda3\\envs\\tesorflow-gpu\\lib\\site-packages\\sklearn\\linear_model\\logistic.py:433: FutureWarning: Default solver will be changed to 'lbfgs' in 0.22. Specify a solver to silence this warning.\n",
      "  FutureWarning)\n",
      "C:\\Users\\fujii\\Anaconda3\\envs\\tesorflow-gpu\\lib\\site-packages\\sklearn\\linear_model\\logistic.py:433: FutureWarning: Default solver will be changed to 'lbfgs' in 0.22. Specify a solver to silence this warning.\n",
      "  FutureWarning)\n",
      "C:\\Users\\fujii\\Anaconda3\\envs\\tesorflow-gpu\\lib\\site-packages\\sklearn\\linear_model\\logistic.py:433: FutureWarning: Default solver will be changed to 'lbfgs' in 0.22. Specify a solver to silence this warning.\n",
      "  FutureWarning)\n"
     ]
    },
    {
     "data": {
      "text/plain": [
       "array([0.95170966, 0.9580084 , 0.95558223])"
      ]
     },
     "execution_count": 7,
     "metadata": {},
     "output_type": "execute_result"
    }
   ],
   "source": [
    "from sklearn.model_selection import cross_val_score\n",
    "from sklearn.linear_model import LogisticRegression\n",
    "from sklearn.datasets import make_classification\n",
    "\n",
    "X, y = make_classification(n_samples = 10000,\n",
    "                          n_features = 3,\n",
    "                          n_informative = 3,\n",
    "                          n_redundant = 0,\n",
    "                          n_classes = 2,\n",
    "                          random_state = 1)\n",
    "\n",
    "logit = LogisticRegression()\n",
    "\n",
    "cross_val_score(logit, X, y, scoring=\"accuracy\")"
   ]
  },
  {
   "cell_type": "code",
   "execution_count": 8,
   "metadata": {},
   "outputs": [
    {
     "name": "stdout",
     "output_type": "stream",
     "text": [
      "              precision    recall  f1-score   support\n",
      "\n",
      "      setosa       1.00      1.00      1.00        13\n",
      "  versicolor       1.00      0.62      0.77        16\n",
      "   virginica       0.60      1.00      0.75         9\n",
      "\n",
      "   micro avg       0.84      0.84      0.84        38\n",
      "   macro avg       0.87      0.88      0.84        38\n",
      "weighted avg       0.91      0.84      0.84        38\n",
      "\n"
     ]
    },
    {
     "name": "stderr",
     "output_type": "stream",
     "text": [
      "C:\\Users\\fujii\\Anaconda3\\envs\\tesorflow-gpu\\lib\\site-packages\\sklearn\\linear_model\\logistic.py:433: FutureWarning: Default solver will be changed to 'lbfgs' in 0.22. Specify a solver to silence this warning.\n",
      "  FutureWarning)\n",
      "C:\\Users\\fujii\\Anaconda3\\envs\\tesorflow-gpu\\lib\\site-packages\\sklearn\\linear_model\\logistic.py:460: FutureWarning: Default multi_class will be changed to 'auto' in 0.22. Specify the multi_class option to silence this warning.\n",
      "  \"this warning.\", FutureWarning)\n"
     ]
    }
   ],
   "source": [
    "import matplotlib.pyplot as plt\n",
    "import seaborn as sns\n",
    "from sklearn import datasets \n",
    "from sklearn.linear_model import LogisticRegression\n",
    "from sklearn.model_selection import train_test_split\n",
    "from sklearn.metrics import confusion_matrix\n",
    "import pandas as pd\n",
    "\n",
    "iris = datasets.load_iris()\n",
    "\n",
    "features = iris.data\n",
    "target = iris.target\n",
    "\n",
    "class_names = iris.target_names\n",
    "features_train,features_test,target_train,target_test = train_test_split(features,target,random_state=1)\n",
    "\n",
    "classifier = LogisticRegression()\n",
    "\n",
    "target_predicted = classifier.fit(features_train, target_train).predict(features_test)\n",
    "matrix = confusion_matrix(target_test, target_predicted)\n",
    "\n",
    "dataframe = pd.DataFrame(matrix, index=class_names, columns = class_names)\n",
    "\n",
    "sns.heatmap(dataframe, annot = True, cbar=None, cmap=\"Blues\")\n",
    "plt.title(\"Confusion Matrix\"), plt.tight_layout()\n",
    "plt.ylabel(\"True Class\"), plt.xlabel(\"Predicted Class\")\n",
    "#plt.show()\n",
    "\n",
    "from sklearn.metrics import classification_report\n",
    "print(classification_report(target_test,\n",
    "                           target_predicted,\n",
    "                           target_names = class_names))"
   ]
  },
  {
   "cell_type": "code",
   "execution_count": 9,
   "metadata": {},
   "outputs": [
    {
     "name": "stderr",
     "output_type": "stream",
     "text": [
      "C:\\Users\\fujii\\Anaconda3\\envs\\tesorflow-gpu\\lib\\site-packages\\sklearn\\model_selection\\_split.py:2053: FutureWarning: You should specify a value for 'cv' instead of relying on the default value. The default value will change from 3 to 5 in version 0.22.\n",
      "  warnings.warn(CV_WARNING, FutureWarning)\n"
     ]
    },
    {
     "data": {
      "text/plain": [
       "array([-1718.22817783, -3103.4124284 , -1377.17858823])"
      ]
     },
     "execution_count": 9,
     "metadata": {},
     "output_type": "execute_result"
    }
   ],
   "source": [
    "from sklearn.datasets import make_regression\n",
    "from sklearn.model_selection import cross_val_score\n",
    "from sklearn.linear_model import LinearRegression\n",
    "\n",
    "features, target = make_regression(n_samples = 100,\n",
    "                                  n_features = 3,\n",
    "                                  n_informative = 3,\n",
    "                                  n_targets = 1,\n",
    "                                  noise = 50,\n",
    "                                  coef = False,\n",
    "                                  random_state = 1)\n",
    "\n",
    "ols = LinearRegression()\n",
    "\n",
    "cross_val_score(ols, features, target, scoring = 'neg_mean_squared_error')"
   ]
  },
  {
   "cell_type": "code",
   "execution_count": 10,
   "metadata": {},
   "outputs": [
    {
     "data": {
      "text/plain": [
       "0.8916265564072142"
      ]
     },
     "execution_count": 10,
     "metadata": {},
     "output_type": "execute_result"
    }
   ],
   "source": [
    "import numpy as np\n",
    "from sklearn.metrics import silhouette_score\n",
    "from sklearn import datasets \n",
    "from sklearn.cluster import KMeans\n",
    "from sklearn.datasets import make_blobs\n",
    "\n",
    "features, _ = make_blobs(n_samples = 1000,\n",
    "                        n_features = 10,\n",
    "                        centers = 2,\n",
    "                        cluster_std = 0.5,\n",
    "                        shuffle = True,\n",
    "                        random_state = 1)\n",
    "\n",
    "model = KMeans(n_clusters=2, random_state = 0).fit(features)\n",
    "\n",
    "target_predicted = model.labels_\n",
    "\n",
    "silhouette_score(features, target_predicted)"
   ]
  },
  {
   "cell_type": "code",
   "execution_count": 11,
   "metadata": {},
   "outputs": [
    {
     "data": {
      "text/plain": [
       "0.9997906102882058"
      ]
     },
     "execution_count": 11,
     "metadata": {},
     "output_type": "execute_result"
    }
   ],
   "source": [
    "from sklearn.metrics import make_scorer, r2_score\n",
    "from sklearn.model_selection import train_test_split \n",
    "from sklearn.linear_model import Ridge\n",
    "from sklearn.datasets import make_regression\n",
    "\n",
    "features, target = make_regression(n_samples = 100,\n",
    "                                  n_features = 3,\n",
    "                                  random_state = 1)\n",
    "\n",
    "features_train,features_test,target_train,target_test = train_test_split(features,target,test_size=0.10,random_state=1)\n",
    "\n",
    "def custom_metric(target_test, target_predicted):\n",
    "    r2 = r2_score(target_test, target_predicted)\n",
    "    return r2\n",
    "\n",
    "score = make_scorer(custom_metric, greater_is_better = True)\n",
    "\n",
    "classifier = Ridge()\n",
    "\n",
    "model = classifier.fit(features_train,target_train)\n",
    "\n",
    "score(model, features_test, target_test)"
   ]
  },
  {
   "cell_type": "code",
   "execution_count": 12,
   "metadata": {},
   "outputs": [
    {
     "data": {
      "image/png": "[encoded data removed]",
      "text/plain": [
       "<Figure size 432x288 with 1 Axes>"
      ]
     },
     "metadata": {
      "needs_background": "light"
     },
     "output_type": "display_data"
    }
   ],
   "source": [
    "import numpy as np\n",
    "import matplotlib.pyplot as plt\n",
    "from sklearn.ensemble import RandomForestClassifier\n",
    "from sklearn.datasets import load_digits\n",
    "from sklearn.model_selection import learning_curve\n",
    "\n",
    "digits = load_digits()\n",
    "\n",
    "features, target = digits.data, digits.target\n",
    "\n",
    "train_sizes,train_scores,test_scores = learning_curve(RandomForestClassifier(),\n",
    "                                                     features,\n",
    "                                                     target,\n",
    "                                                     cv=10,\n",
    "                                                     scoring='accuracy',\n",
    "                                                     n_jobs=-1,\n",
    "                                                     train_sizes=np.linspace(0.01,1.0,50))\n",
    "\n",
    "train_mean = np.mean(train_scores, axis=1)\n",
    "train_std= np.std(train_scores, axis=1)\n",
    "test_mean = np.mean(test_scores, axis=1)\n",
    "test_std= np.std(test_scores, axis=1)\n",
    "\n",
    "plt.plot(train_sizes, train_mean, '--',color=\"#111111\", label=\"Training score\")\n",
    "plt.plot(train_sizes, test_mean,color=\"#111111\", label=\"Cross-validation score\")\n",
    "\n",
    "plt.show()"
   ]
  },
  {
   "cell_type": "code",
   "execution_count": 13,
   "metadata": {},
   "outputs": [
    {
     "data": {
      "image/png": "[encoded data removed]",
      "text/plain": [
       "<Figure size 432x288 with 1 Axes>"
      ]
     },
     "metadata": {
      "needs_background": "light"
     },
     "output_type": "display_data"
    }
   ],
   "source": [
    "import matplotlib.pyplot as plt\n",
    "import numpy as np\n",
    "from sklearn.datasets import load_digits\n",
    "from sklearn.ensemble import RandomForestClassifier\n",
    "from sklearn.model_selection import validation_curve\n",
    "\n",
    "digits = load_digits()\n",
    "\n",
    "features, target = digits.data, digits.target\n",
    "\n",
    "param_range = np.arange(1,250,2)\n",
    "\n",
    "train_scores, test_scores = validation_curve(RandomForestClassifier(),\n",
    "                                            features,\n",
    "                                            target,\n",
    "                                            param_name = \"n_estimators\",\n",
    "                                            param_range=param_range,\n",
    "                                            cv=3,\n",
    "                                            scoring=\"accuracy\",\n",
    "                                            n_jobs=-1)\n",
    "\n",
    "train_mean = np.mean(train_scores, axis=1)\n",
    "train_std= np.std(train_scores, axis=1)\n",
    "test_mean = np.mean(test_scores, axis=1)\n",
    "test_std= np.std(test_scores, axis=1)\n",
    "\n",
    "plt.plot(param_range, train_mean, '--',color=\"black\", label=\"Training score\")\n",
    "plt.plot(param_range, test_mean,color=\"dimgrey\", label=\"Cross-validation score\")\n",
    "\n",
    "plt.show()"
   ]
  }
 ],
 "metadata": {
  "kernelspec": {
   "display_name": "Python 3",
   "language": "python",
   "name": "python3"
  },
  "language_info": {
   "codemirror_mode": {
    "name": "ipython",
    "version": 3
   },
   "file_extension": ".py",
   "mimetype": "text/x-python",
   "name": "python",
   "nbconvert_exporter": "python",
   "pygments_lexer": "ipython3",
   "version": "3.6.8"
  }
 },
 "nbformat": 4,
 "nbformat_minor": 2
}
