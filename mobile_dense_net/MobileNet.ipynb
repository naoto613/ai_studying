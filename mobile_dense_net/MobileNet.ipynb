{
 "cells": [
  {
   "cell_type": "code",
   "execution_count": null,
   "metadata": {},
   "outputs": [],
   "source": [
    "import os\n",
    "from keras.applications import MobileNet\n",
    "from keras.applications import VGG16\n",
    "from keras.optimizers import Adam\n",
    "import pandas as pd\n",
    "import numpy as np\n",
    "from sklearn import preprocessing\n",
    "from keras.utils import np_utils"
   ]
  },
  {
   "cell_type": "code",
   "execution_count": null,
   "metadata": {},
   "outputs": [],
   "source": [
    "train_meta_df = pd.read_csv('../input/meta.csv')\n",
    "test_meta_df = pd.read_csv('../input/test_meta.csv')\n",
    "\n",
    "NUM_TRAIN = len(train_meta_df)\n",
    "NUM_TEST = len(test_meta_df)\n",
    "IMG_SIZE = 224\n",
    "NUM_BATCH = 128\n",
    "NUM_EPOCH = 40\n",
    "\n",
    "X_train = np.memmap(\n",
    "    filename='../input/X_train.npy', dtype=np.float16, \n",
    "    mode='r', shape=(NUM_TRAIN, IMG_SIZE, IMG_SIZE, 3) )\n",
    "y_train = train_meta_df['class'].values\n",
    "\n",
    "le = preprocessing.LabelEncoder()\n",
    "le.fit(y_train)\n",
    "NUM_CLASSES = len(le.classes_)\n",
    "y_train = le.transform(y_train)\n",
    "\n",
    "X_test = np.memmap(\n",
    "    filename='../input/X_test.npy', dtype=np.float16, \n",
    "    mode='r', shape=(NUM_TEST, IMG_SIZE, IMG_SIZE, 3))\n",
    "y_test = test_meta_df['class'].values\n",
    "y_test = le.transform(y_test)\n",
    "y_test = np_utils.to_categorical(y=y_test, num_classes=NUM_CLASSES)\n",
    "\n",
    "#  MobileNet\n",
    "model = MobileNet(\n",
    "    input_shape=(IMG_SIZE, IMG_SIZE, 3),\n",
    "    alpha=1.0, depth_multiplier=1, weights=None,\n",
    "    classes=NUM_CLASSES)\n",
    "\n",
    "model.compile(\n",
    "    loss='categorical_crossentropy', optimizer=Adam(), metrics=['accuracy'])\n",
    "model.fit(\n",
    "    x=X_train, y=y_train, batch_size=NUM_BATCH, epochs=NUM_EPOCH, \n",
    "    verbose=2, validation_data=(X_test, y_test))"
   ]
  },
  {
   "cell_type": "code",
   "execution_count": null,
   "metadata": {},
   "outputs": [],
   "source": [
    "from keras.applications import MobileNet\n",
    "from keras.layers import Conv2D, Activation, BatchNormalization, Concatenate, AveragePooling2D, Input, GlobalAveragePooling2D, Dense\n",
    "from keras.models import Model\n",
    "from keras.optimizers import Adam\n",
    "from keras.datasets import cifar10\n",
    "from keras.utils import to_categorical\n",
    "from keras.preprocessing.image import ImageDataGenerator\n",
    "import pickle\n",
    "import numpy as np\n",
    "\n",
    "if __name__ == \"__main__\":\n",
    "    # k=16の場合\n",
    "    densenet = MobileNet\n",
    "    # densenet.model.summary()\n",
    "\n",
    "    # CIFAR-10の読み込み\n",
    "    (X_train, y_train), (X_test, y_test) = cifar10.load_data()\n",
    "    # X_train = (X_train / 255.0).astype(\"float32\")\n",
    "    X_test = (X_test / 255.0).astype(\"float32\")\n",
    "    y_train, y_test = to_categorical(y_train), to_categorical(y_test)\n",
    "\n",
    "    densenet.train(X_train, y_train, X_test, y_test)"
   ]
  }
 ],
 "metadata": {
  "kernelspec": {
   "display_name": "Python 3",
   "language": "python",
   "name": "python3"
  },
  "language_info": {
   "codemirror_mode": {
    "name": "ipython",
    "version": 3
   },
   "file_extension": ".py",
   "mimetype": "text/x-python",
   "name": "python",
   "nbconvert_exporter": "python",
   "pygments_lexer": "ipython3",
   "version": "3.6.8"
  }
 },
 "nbformat": 4,
 "nbformat_minor": 2
}
