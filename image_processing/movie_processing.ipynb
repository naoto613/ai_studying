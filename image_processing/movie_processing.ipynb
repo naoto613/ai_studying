{
 "cells": [
  {
   "cell_type": "markdown",
   "metadata": {},
   "source": [
    "色検出"
   ]
  },
  {
   "cell_type": "code",
   "execution_count": 1,
   "metadata": {},
   "outputs": [],
   "source": [
    "import cv2\n",
    "import numpy as np\n",
    "cap = cv2.VideoCapture(\"movie/Mobility.mp4\")\n",
    "while True:\n",
    "    cv2.namedWindow(\"img\", cv2.WINDOW_NORMAL)\n",
    "    cv2.resizeWindow(\"img\", 640,400)\n",
    "    ret, frame = cap.read()\n",
    "    if ret == False:\n",
    "        break\n",
    "    hsv = cv2.cvtColor(frame, cv2.COLOR_BGR2HSV)\n",
    "    lower = np.array([20,50,50])\n",
    "    upper = np.array([25, 255, 255])\n",
    "    frame_mask = cv2.inRange(hsv, lower, upper)\n",
    "    dst = cv2.bitwise_and(frame, frame, mask = frame_mask)\n",
    "    cv2.imshow(\"img\", dst)\n",
    "    if cv2.waitKey(10) == 27:\n",
    "        break\n",
    "cv2.destroyAllWindows()"
   ]
  },
  {
   "cell_type": "markdown",
   "metadata": {},
   "source": [
    "オプティカルフロー"
   ]
  },
  {
   "cell_type": "code",
   "execution_count": 2,
   "metadata": {},
   "outputs": [],
   "source": [
    "import cv2\n",
    "cv2.namedWindow(\"img\", cv2.WINDOW_NORMAL)\n",
    "cv2.resizeWindow(\"img\", 1200, 800)\n",
    "COUNT = 500\n",
    "criteria = (cv2.TERM_CRITERIA_MAX_ITER | cv2.TERM_CRITERIA_EPS, 20, 0.03)\n",
    "lk_params = dict(winSize=(10,10), maxLevel=4, criteria=criteria)\n",
    "cap = cv2.VideoCapture(\"movie/Cosmos.mp4\")\n",
    "ret, frame = cap.read()\n",
    "frame_pre = cv2.cvtColor(frame,cv2.COLOR_BGR2GRAY)\n",
    "while True:\n",
    "    ret, frame = cap.read()\n",
    "    if ret == False:\n",
    "        break\n",
    "    frame_now = cv2.cvtColor(frame, cv2.COLOR_BGR2GRAY)\n",
    "    feature_pre = cv2.goodFeaturesToTrack(frame_pre, COUNT, 0.001, 5)\n",
    "    if feature_pre is None:\n",
    "        continue\n",
    "    feature_now, status, err = cv2.calcOpticalFlowPyrLK(frame_pre, frame_now, feature_pre, None, **lk_params)\n",
    "    for i in range(COUNT):\n",
    "        pre_x = feature_pre[i][0][0]\n",
    "        pre_y = feature_pre[i][0][1]\n",
    "        now_x = feature_pre[i][0][0]\n",
    "        now_y = feature_pre[i][0][1]\n",
    "        cv2.line(frame, (pre_x,pre_y), (now_x,now_y), (255,0,0),3)\n",
    "    cv2.imshow(\"img\",frame)\n",
    "    frame_pre = frame_now.copy()\n",
    "    if cv2.waitKey(10) == 27:\n",
    "        break\n",
    "cv2.destroyAllWindows()"
   ]
  },
  {
   "cell_type": "markdown",
   "metadata": {},
   "source": [
    "MeanShift/CamShift"
   ]
  },
  {
   "cell_type": "code",
   "execution_count": 3,
   "metadata": {},
   "outputs": [],
   "source": [
    "cap = cv2.VideoCapture(\"movie/Cruse.mp4\")\n",
    "ret, frame = cap.read()\n",
    "h, w, ch = frame.shape"
   ]
  },
  {
   "cell_type": "code",
   "execution_count": 4,
   "metadata": {},
   "outputs": [],
   "source": [
    "rct = (600,500,200,200)\n",
    "cv2.namedWindow(\"win\", cv2.WINDOW_NORMAL)\n",
    "cv2.resizeWindow(\"win\", 1200, 800)\n",
    "cri = (cv2.TERM_CRITERIA_COUNT | cv2.TERM_CRITERIA_EPS, 10, 1)\n",
    "while(True):\n",
    "    threshold = 100\n",
    "    ret, frame = cap.read()\n",
    "    if ret == False:\n",
    "        break\n",
    "    img_g = cv2.cvtColor(frame, cv2.COLOR_BGR2GRAY)\n",
    "    ret, img_bin = cv2.threshold(img_g, threshold, 255, cv2.THRESH_BINARY)\n",
    "    ret, rct = cv2.meanShift(img_bin, rct, cri)\n",
    "    x, y, w, h = rct\n",
    "    frame = cv2.rectangle(frame, (x,y), (x+w, y+h), (255, 0, 0), 3)\n",
    "    cv2.imshow(\"win\", frame)\n",
    "    if cv2.waitKey(10) == 27:\n",
    "        break\n",
    "cv2.destroyAllWindows()"
   ]
  },
  {
   "cell_type": "code",
   "execution_count": 5,
   "metadata": {},
   "outputs": [],
   "source": [
    "rct = (600,500,200,200)\n",
    "cv2.namedWindow(\"win\", cv2.WINDOW_NORMAL)\n",
    "cv2.resizeWindow(\"win\", 1200, 800)\n",
    "cri = (cv2.TERM_CRITERIA_COUNT | cv2.TERM_CRITERIA_EPS, 10, 1)\n",
    "while(True):\n",
    "    threshold = 100\n",
    "    ret, frame = cap.read()\n",
    "    if ret == False:\n",
    "        break\n",
    "    img_g = cv2.cvtColor(frame, cv2.COLOR_BGR2GRAY)\n",
    "    ret, img_bin = cv2.threshold(img_g, threshold, 255, cv2.THRESH_BINARY)\n",
    "    ret, rct = cv2.CamShift(img_bin, rct, cri)\n",
    "    x, y, w, h = rct\n",
    "    frame = cv2.rectangle(frame, (x,y), (x+w, y+h), (255, 0, 0), 3)\n",
    "    cv2.imshow(\"win\", frame)\n",
    "    if cv2.waitKey(10) == 27:\n",
    "        break\n",
    "cv2.destroyAllWindows()"
   ]
  },
  {
   "cell_type": "markdown",
   "metadata": {},
   "source": [
    "背景差分"
   ]
  },
  {
   "cell_type": "code",
   "execution_count": 1,
   "metadata": {},
   "outputs": [],
   "source": [
    "cv2.namedWindow(\"img\", cv2.WINDOW_NORMAL)\n",
    "cv2.resizeWindow(\"img\", 1200, 800)\n",
    "cap = cv2.VideoCapture(\"movie/People.mp4\")\n",
    "ret, frame = cap.read()\n",
    "h, w, ch = frame.shape\n",
    "frame_back = np.zeros((h,w,ch), dtype=np.float32)\n",
    "while True:\n",
    "    ret, frame = cap.read()\n",
    "    if ret == False:\n",
    "        break\n",
    "    frame_diff = cv2.absdiff(frame.astype(np.float32), frame_back)\n",
    "    cv2.accumulateWeighted(frame, frame_back, 0.03)\n",
    "    cv2.imshow(\"img\", frame_diff.astype(np.uint8))\n",
    "    if cv2.waitKey(10) == 27:\n",
    "        break\n",
    "cv2.destroyAllWindows()"
   ]
  },
  {
   "cell_type": "markdown",
   "metadata": {},
   "source": [
    "パーティクルフィルタ"
   ]
  }
 ],
 "metadata": {
  "kernelspec": {
   "display_name": "Python 3",
   "language": "python",
   "name": "python3"
  },
  "language_info": {
   "codemirror_mode": {
    "name": "ipython",
    "version": 3
   },
   "file_extension": ".py",
   "mimetype": "text/x-python",
   "name": "python",
   "nbconvert_exporter": "python",
   "pygments_lexer": "ipython3",
   "version": "3.6.8"
  }
 },
 "nbformat": 4,
 "nbformat_minor": 2
}
