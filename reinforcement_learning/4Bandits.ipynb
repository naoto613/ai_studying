{
 "cells": [
  {
   "cell_type": "code",
   "execution_count": 6,
   "metadata": {},
   "outputs": [],
   "source": [
    "import tensorflow as tf\n",
    "import numpy as np\n",
    "\n",
    "bandits = [0.2, -0.5, -0.2 , 0 , 0.4, -0.3]\n",
    "num_bandits = len(bandits)\n",
    "\n",
    "def pullBandit(bandit):\n",
    "    result = np.random.randn(1)\n",
    "    if result > bandit:\n",
    "        return 1\n",
    "    else:\n",
    "        return -1"
   ]
  },
  {
   "cell_type": "code",
   "execution_count": 7,
   "metadata": {},
   "outputs": [],
   "source": [
    "tf.reset_default_graph()\n",
    "weights = tf.Variable(tf.ones([num_bandits]))\n",
    "chosen_action = tf.argmax(weights,0)\n",
    "\n",
    "reward_holder = tf.placeholder(shape=[1],dtype=tf.float32)\n",
    "action_holder = tf.placeholder(shape=[1],dtype=tf.int32)\n",
    "responsible_weight = tf.slice(weights, action_holder, [1])\n",
    "loss = -(tf.log(responsible_weight)*reward_holder)\n",
    "optimizer = tf.train.GradientDescentOptimizer(learning_rate=0.001)\n",
    "update = optimizer.minimize(loss)"
   ]
  },
  {
   "cell_type": "code",
   "execution_count": 8,
   "metadata": {},
   "outputs": [
    {
     "name": "stdout",
     "output_type": "stream",
     "text": [
      "リワード・報酬の一覧：[1. 0. 0. 0. 0. 0.]\n",
      "リワード・報酬の一覧：[ 4. -1. -1. -1. -1. -1.]\n",
      "リワード・報酬の一覧：[-2. -2. -2.  2. -2. -3.]\n",
      "リワード・報酬の一覧：[-2. -2. -2. 10. -1. -4.]\n",
      "リワード・報酬の一覧：[-3. -2. -4.  5. -2. -5.]\n",
      "リワード・報酬の一覧：[-4. -3. -4. -3. -2. -5.]\n",
      "リワード・報酬の一覧：[-4. 14. -4. -3. -1. -5.]\n",
      "リワード・報酬の一覧：[-4. 33. -4. -3. -2. -5.]\n",
      "リワード・報酬の一覧：[-2. 46. -4. -3. -3. -5.]\n",
      "リワード・報酬の一覧：[-2. 58. -4. -3. -4. -6.]\n",
      "リワード・報酬の一覧：[-2. 79. -4. -4. -4. -4.]\n",
      "リワード・報酬の一覧：[-3. 93. -3. -4. -4. -4.]\n",
      "リワード・報酬の一覧：[ -2. 105.  -4.  -3.  -4.  -5.]\n",
      "リワード・報酬の一覧：[ -2. 114.  -4.  -6.  -4.  -5.]\n",
      "リワード・報酬の一覧：[  0. 141.  -4.  -6.  -6.  -4.]\n",
      "リワード・報酬の一覧：[ -1. 161.  -4.  -6.  -7.  -2.]\n",
      "リワード・報酬の一覧：[ -1. 190.  -4.  -9.  -7.  -4.]\n",
      "リワード・報酬の一覧：[ -2. 206.  -4.  -9.  -9.  -5.]\n",
      "リワード・報酬の一覧：[ -1. 230.  -3.  -8. -10.  -5.]\n",
      "リワード・報酬の一覧：[  0. 246.  -4.  -7. -10.  -6.]\n",
      "エージェントが考える最適なアームは、2番目のアームです。\n"
     ]
    }
   ],
   "source": [
    "total_episodes = 1000\n",
    "total_reward = np.zeros(num_bandits)\n",
    "e = 0.1\n",
    "init = tf.global_variables_initializer()\n",
    "\n",
    "with tf.Session() as sess:\n",
    "    sess.run(init)\n",
    "    i = 0\n",
    "    while i < total_episodes:\n",
    "        if np.random.rand(1) < e:\n",
    "            action = np.random.randint(num_bandits)\n",
    "        else:\n",
    "            action = sess.run(chosen_action)\n",
    "        reward = pullBandit(bandits[action])\n",
    "            \n",
    "        _,resp,ww = sess.run([update,responsible_weight,weights], feed_dict = {reward_holder:[reward], action_holder:[action]})\n",
    "        \n",
    "        total_reward[action] += reward\n",
    "        if i % 50 == 0:\n",
    "            print(\"リワード・報酬の一覧：\" + str(total_reward))\n",
    "        i += 1\n",
    "            \n",
    "print(\"エージェントが考える最適なアームは、\" + str(np.argmax(ww) + 1) + \"番目のアームです。\")   "
   ]
  },
  {
   "cell_type": "code",
   "execution_count": null,
   "metadata": {},
   "outputs": [],
   "source": []
  }
 ],
 "metadata": {
  "kernelspec": {
   "display_name": "Python 3",
   "language": "python",
   "name": "python3"
  },
  "language_info": {
   "codemirror_mode": {
    "name": "ipython",
    "version": 3
   },
   "file_extension": ".py",
   "mimetype": "text/x-python",
   "name": "python",
   "nbconvert_exporter": "python",
   "pygments_lexer": "ipython3",
   "version": "3.6.8"
  }
 },
 "nbformat": 4,
 "nbformat_minor": 2
}
